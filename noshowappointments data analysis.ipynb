{
 "cells": [
  {
   "cell_type": "code",
   "execution_count": null,
   "id": "cc4cb344",
   "metadata": {},
   "outputs": [],
   "source": [
    "import "
   ]
  },
  {
   "cell_type": "code",
   "execution_count": 1,
   "id": "819f6963",
   "metadata": {},
   "outputs": [],
   "source": [
    "import pandas as pd\n"
   ]
  },
  {
   "cell_type": "code",
   "execution_count": 7,
   "id": "2f5ace50",
   "metadata": {},
   "outputs": [],
   "source": [
    "import pandas as pd\n"
   ]
  },
  {
   "cell_type": "code",
   "execution_count": 78,
   "id": "d4be6095",
   "metadata": {},
   "outputs": [
    {
     "data": {
      "text/html": [
       "<div>\n",
       "<style scoped>\n",
       "    .dataframe tbody tr th:only-of-type {\n",
       "        vertical-align: middle;\n",
       "    }\n",
       "\n",
       "    .dataframe tbody tr th {\n",
       "        vertical-align: top;\n",
       "    }\n",
       "\n",
       "    .dataframe thead th {\n",
       "        text-align: right;\n",
       "    }\n",
       "</style>\n",
       "<table border=\"1\" class=\"dataframe\">\n",
       "  <thead>\n",
       "    <tr style=\"text-align: right;\">\n",
       "      <th></th>\n",
       "      <th>PatientId</th>\n",
       "      <th>AppointmentID</th>\n",
       "      <th>Gender</th>\n",
       "      <th>ScheduledDay</th>\n",
       "      <th>AppointmentDay</th>\n",
       "      <th>Age</th>\n",
       "      <th>Neighbourhood</th>\n",
       "      <th>Scholarship</th>\n",
       "      <th>Hipertension</th>\n",
       "      <th>Diabetes</th>\n",
       "      <th>Alcoholism</th>\n",
       "      <th>Handcap</th>\n",
       "      <th>SMS_received</th>\n",
       "      <th>No-show</th>\n",
       "    </tr>\n",
       "  </thead>\n",
       "  <tbody>\n",
       "    <tr>\n",
       "      <th>0</th>\n",
       "      <td>2.987250e+13</td>\n",
       "      <td>5642903</td>\n",
       "      <td>F</td>\n",
       "      <td>2016-04-29T18:38:08Z</td>\n",
       "      <td>2016-04-29T00:00:00Z</td>\n",
       "      <td>62</td>\n",
       "      <td>JARDIM DA PENHA</td>\n",
       "      <td>0</td>\n",
       "      <td>1</td>\n",
       "      <td>0</td>\n",
       "      <td>0</td>\n",
       "      <td>0</td>\n",
       "      <td>0</td>\n",
       "      <td>No</td>\n",
       "    </tr>\n",
       "    <tr>\n",
       "      <th>1</th>\n",
       "      <td>5.589978e+14</td>\n",
       "      <td>5642503</td>\n",
       "      <td>M</td>\n",
       "      <td>2016-04-29T16:08:27Z</td>\n",
       "      <td>2016-04-29T00:00:00Z</td>\n",
       "      <td>56</td>\n",
       "      <td>JARDIM DA PENHA</td>\n",
       "      <td>0</td>\n",
       "      <td>0</td>\n",
       "      <td>0</td>\n",
       "      <td>0</td>\n",
       "      <td>0</td>\n",
       "      <td>0</td>\n",
       "      <td>No</td>\n",
       "    </tr>\n",
       "    <tr>\n",
       "      <th>2</th>\n",
       "      <td>4.262962e+12</td>\n",
       "      <td>5642549</td>\n",
       "      <td>F</td>\n",
       "      <td>2016-04-29T16:19:04Z</td>\n",
       "      <td>2016-04-29T00:00:00Z</td>\n",
       "      <td>62</td>\n",
       "      <td>MATA DA PRAIA</td>\n",
       "      <td>0</td>\n",
       "      <td>0</td>\n",
       "      <td>0</td>\n",
       "      <td>0</td>\n",
       "      <td>0</td>\n",
       "      <td>0</td>\n",
       "      <td>No</td>\n",
       "    </tr>\n",
       "    <tr>\n",
       "      <th>3</th>\n",
       "      <td>8.679512e+11</td>\n",
       "      <td>5642828</td>\n",
       "      <td>F</td>\n",
       "      <td>2016-04-29T17:29:31Z</td>\n",
       "      <td>2016-04-29T00:00:00Z</td>\n",
       "      <td>8</td>\n",
       "      <td>PONTAL DE CAMBURI</td>\n",
       "      <td>0</td>\n",
       "      <td>0</td>\n",
       "      <td>0</td>\n",
       "      <td>0</td>\n",
       "      <td>0</td>\n",
       "      <td>0</td>\n",
       "      <td>No</td>\n",
       "    </tr>\n",
       "    <tr>\n",
       "      <th>4</th>\n",
       "      <td>8.841186e+12</td>\n",
       "      <td>5642494</td>\n",
       "      <td>F</td>\n",
       "      <td>2016-04-29T16:07:23Z</td>\n",
       "      <td>2016-04-29T00:00:00Z</td>\n",
       "      <td>56</td>\n",
       "      <td>JARDIM DA PENHA</td>\n",
       "      <td>0</td>\n",
       "      <td>1</td>\n",
       "      <td>1</td>\n",
       "      <td>0</td>\n",
       "      <td>0</td>\n",
       "      <td>0</td>\n",
       "      <td>No</td>\n",
       "    </tr>\n",
       "  </tbody>\n",
       "</table>\n",
       "</div>"
      ],
      "text/plain": [
       "      PatientId  AppointmentID Gender          ScheduledDay  \\\n",
       "0  2.987250e+13        5642903      F  2016-04-29T18:38:08Z   \n",
       "1  5.589978e+14        5642503      M  2016-04-29T16:08:27Z   \n",
       "2  4.262962e+12        5642549      F  2016-04-29T16:19:04Z   \n",
       "3  8.679512e+11        5642828      F  2016-04-29T17:29:31Z   \n",
       "4  8.841186e+12        5642494      F  2016-04-29T16:07:23Z   \n",
       "\n",
       "         AppointmentDay  Age      Neighbourhood  Scholarship  Hipertension  \\\n",
       "0  2016-04-29T00:00:00Z   62    JARDIM DA PENHA            0             1   \n",
       "1  2016-04-29T00:00:00Z   56    JARDIM DA PENHA            0             0   \n",
       "2  2016-04-29T00:00:00Z   62      MATA DA PRAIA            0             0   \n",
       "3  2016-04-29T00:00:00Z    8  PONTAL DE CAMBURI            0             0   \n",
       "4  2016-04-29T00:00:00Z   56    JARDIM DA PENHA            0             1   \n",
       "\n",
       "   Diabetes  Alcoholism  Handcap  SMS_received No-show  \n",
       "0         0           0        0             0      No  \n",
       "1         0           0        0             0      No  \n",
       "2         0           0        0             0      No  \n",
       "3         0           0        0             0      No  \n",
       "4         1           0        0             0      No  "
      ]
     },
     "execution_count": 78,
     "metadata": {},
     "output_type": "execute_result"
    }
   ],
   "source": [
    "df=pd.read_csv(r'D:\\Data analyst ALX\\noshowappointments-kagglev2-may-2016.csv')\n",
    "df.head()  \n",
    "# read and import the csv file so as to see , modify and use the dataset"
   ]
  },
  {
   "cell_type": "code",
   "execution_count": 79,
   "id": "58e97355",
   "metadata": {},
   "outputs": [
    {
     "data": {
      "text/plain": [
       "(110527, 14)"
      ]
     },
     "execution_count": 79,
     "metadata": {},
     "output_type": "execute_result"
    }
   ],
   "source": [
    "df.shape\n",
    "# checking the dataset in terms of number of columns and rows"
   ]
  },
  {
   "cell_type": "code",
   "execution_count": 80,
   "id": "60636f80",
   "metadata": {},
   "outputs": [
    {
     "name": "stdout",
     "output_type": "stream",
     "text": [
      "<class 'pandas.core.frame.DataFrame'>\n",
      "RangeIndex: 110527 entries, 0 to 110526\n",
      "Data columns (total 14 columns):\n",
      " #   Column          Non-Null Count   Dtype  \n",
      "---  ------          --------------   -----  \n",
      " 0   PatientId       110527 non-null  float64\n",
      " 1   AppointmentID   110527 non-null  int64  \n",
      " 2   Gender          110527 non-null  object \n",
      " 3   ScheduledDay    110527 non-null  object \n",
      " 4   AppointmentDay  110527 non-null  object \n",
      " 5   Age             110527 non-null  int64  \n",
      " 6   Neighbourhood   110527 non-null  object \n",
      " 7   Scholarship     110527 non-null  int64  \n",
      " 8   Hipertension    110527 non-null  int64  \n",
      " 9   Diabetes        110527 non-null  int64  \n",
      " 10  Alcoholism      110527 non-null  int64  \n",
      " 11  Handcap         110527 non-null  int64  \n",
      " 12  SMS_received    110527 non-null  int64  \n",
      " 13  No-show         110527 non-null  object \n",
      "dtypes: float64(1), int64(8), object(5)\n",
      "memory usage: 11.8+ MB\n"
     ]
    }
   ],
   "source": [
    "df.info()\n",
    "# checking for any missing values and datatypes apparently there are none"
   ]
  },
  {
   "cell_type": "code",
   "execution_count": 81,
   "id": "274f447c",
   "metadata": {},
   "outputs": [
    {
     "data": {
      "text/plain": [
       "(0, 48228, 0)"
      ]
     },
     "execution_count": 81,
     "metadata": {},
     "output_type": "execute_result"
    }
   ],
   "source": [
    "df.duplicated().sum() , df.duplicated('PatientId').sum(), df.duplicated('AppointmentID').sum()\n",
    "#Checking if the data has duplicates using the appointmentID and PatientId because they contain unique values\n"
   ]
  },
  {
   "cell_type": "code",
   "execution_count": 82,
   "id": "719f1f4f",
   "metadata": {},
   "outputs": [],
   "source": [
    "df.Gender = df.Gender.astype('category')\n",
    "df.ScheduledDay = pd.to_datetime(df.ScheduledDay)\n",
    "df.AppointmentDay = pd.to_datetime(df.AppointmentDay)\n",
    "# The Gender datatype can be changed into category because it has otions such Male or Female, also the AppointmentDay and \n",
    "#scheduledDay  have to be changed to datetime format"
   ]
  },
  {
   "cell_type": "code",
   "execution_count": 83,
   "id": "dc95df88",
   "metadata": {},
   "outputs": [
    {
     "name": "stdout",
     "output_type": "stream",
     "text": [
      "<class 'pandas.core.frame.DataFrame'>\n",
      "RangeIndex: 110527 entries, 0 to 110526\n",
      "Data columns (total 14 columns):\n",
      " #   Column          Non-Null Count   Dtype              \n",
      "---  ------          --------------   -----              \n",
      " 0   PatientId       110527 non-null  float64            \n",
      " 1   AppointmentID   110527 non-null  int64              \n",
      " 2   Gender          110527 non-null  category           \n",
      " 3   ScheduledDay    110527 non-null  datetime64[ns, UTC]\n",
      " 4   AppointmentDay  110527 non-null  datetime64[ns, UTC]\n",
      " 5   Age             110527 non-null  int64              \n",
      " 6   Neighbourhood   110527 non-null  object             \n",
      " 7   Scholarship     110527 non-null  int64              \n",
      " 8   Hipertension    110527 non-null  int64              \n",
      " 9   Diabetes        110527 non-null  int64              \n",
      " 10  Alcoholism      110527 non-null  int64              \n",
      " 11  Handcap         110527 non-null  int64              \n",
      " 12  SMS_received    110527 non-null  int64              \n",
      " 13  No-show         110527 non-null  object             \n",
      "dtypes: category(1), datetime64[ns, UTC](2), float64(1), int64(8), object(2)\n",
      "memory usage: 11.1+ MB\n"
     ]
    }
   ],
   "source": [
    "df.info() \n",
    "#check whether the changes have been effected."
   ]
  },
  {
   "cell_type": "code",
   "execution_count": 86,
   "id": "80fbac7e",
   "metadata": {},
   "outputs": [
    {
     "data": {
      "text/plain": [
       "Index(['PATIENT-ID', 'APPOINTMENTID', 'GENDER', 'SCHEDULED_DAY',\n",
       "       'APPOINTMENTDAY', 'AGE', 'NEIGHBOURHOOD', 'SCHOLARSHIP', 'HIPERTENSION',\n",
       "       'DIABETES', 'ALCOHOLISM', 'HANDCAP', 'SMS_RECEIVED', 'NO-SHOW'],\n",
       "      dtype='object')"
      ]
     },
     "execution_count": 86,
     "metadata": {},
     "output_type": "execute_result"
    }
   ],
   "source": [
    "df.columns.str.upper()\n",
    "# Change the column titles to be in uppercase so as to be clearly visible"
   ]
  },
  {
   "cell_type": "code",
   "execution_count": 87,
   "id": "1057a579",
   "metadata": {},
   "outputs": [],
   "source": [
    "\n",
    "df.columns = ['PATIENT_ID', 'APPOINTMENT_ID', 'GENDER', 'SCHEDULED_DAY',\n",
    "       'APPOINTMENTDAY', 'AGE', 'NEIGHBOURHOOD', 'SCHOLARSHIP', 'HIPERTENSION',\n",
    "       'DIABETES', 'ALCOHOLISM', 'HANDCAP', 'SMS_RECEIVED', 'NO-SHOW']\n"
   ]
  },
  {
   "cell_type": "code",
   "execution_count": 88,
   "id": "ee929796",
   "metadata": {},
   "outputs": [],
   "source": [
    "df.drop(['PATIENT_ID','APPOINTMENT_ID'],axis=1, inplace=True)\n",
    "# We need to drop these two coulumns because they seem not to be valuable when doing analysis"
   ]
  },
  {
   "cell_type": "code",
   "execution_count": 89,
   "id": "9ee3f195",
   "metadata": {},
   "outputs": [
    {
     "data": {
      "text/html": [
       "<div>\n",
       "<style scoped>\n",
       "    .dataframe tbody tr th:only-of-type {\n",
       "        vertical-align: middle;\n",
       "    }\n",
       "\n",
       "    .dataframe tbody tr th {\n",
       "        vertical-align: top;\n",
       "    }\n",
       "\n",
       "    .dataframe thead th {\n",
       "        text-align: right;\n",
       "    }\n",
       "</style>\n",
       "<table border=\"1\" class=\"dataframe\">\n",
       "  <thead>\n",
       "    <tr style=\"text-align: right;\">\n",
       "      <th></th>\n",
       "      <th>AGE</th>\n",
       "      <th>SCHOLARSHIP</th>\n",
       "      <th>HIPERTENSION</th>\n",
       "      <th>DIABETES</th>\n",
       "      <th>ALCOHOLISM</th>\n",
       "      <th>HANDCAP</th>\n",
       "      <th>SMS_RECEIVED</th>\n",
       "    </tr>\n",
       "  </thead>\n",
       "  <tbody>\n",
       "    <tr>\n",
       "      <th>count</th>\n",
       "      <td>110527.000000</td>\n",
       "      <td>110527.000000</td>\n",
       "      <td>110527.000000</td>\n",
       "      <td>110527.000000</td>\n",
       "      <td>110527.000000</td>\n",
       "      <td>110527.000000</td>\n",
       "      <td>110527.000000</td>\n",
       "    </tr>\n",
       "    <tr>\n",
       "      <th>mean</th>\n",
       "      <td>37.088874</td>\n",
       "      <td>0.098266</td>\n",
       "      <td>0.197246</td>\n",
       "      <td>0.071865</td>\n",
       "      <td>0.030400</td>\n",
       "      <td>0.022248</td>\n",
       "      <td>0.321026</td>\n",
       "    </tr>\n",
       "    <tr>\n",
       "      <th>std</th>\n",
       "      <td>23.110205</td>\n",
       "      <td>0.297675</td>\n",
       "      <td>0.397921</td>\n",
       "      <td>0.258265</td>\n",
       "      <td>0.171686</td>\n",
       "      <td>0.161543</td>\n",
       "      <td>0.466873</td>\n",
       "    </tr>\n",
       "    <tr>\n",
       "      <th>min</th>\n",
       "      <td>-1.000000</td>\n",
       "      <td>0.000000</td>\n",
       "      <td>0.000000</td>\n",
       "      <td>0.000000</td>\n",
       "      <td>0.000000</td>\n",
       "      <td>0.000000</td>\n",
       "      <td>0.000000</td>\n",
       "    </tr>\n",
       "    <tr>\n",
       "      <th>25%</th>\n",
       "      <td>18.000000</td>\n",
       "      <td>0.000000</td>\n",
       "      <td>0.000000</td>\n",
       "      <td>0.000000</td>\n",
       "      <td>0.000000</td>\n",
       "      <td>0.000000</td>\n",
       "      <td>0.000000</td>\n",
       "    </tr>\n",
       "    <tr>\n",
       "      <th>50%</th>\n",
       "      <td>37.000000</td>\n",
       "      <td>0.000000</td>\n",
       "      <td>0.000000</td>\n",
       "      <td>0.000000</td>\n",
       "      <td>0.000000</td>\n",
       "      <td>0.000000</td>\n",
       "      <td>0.000000</td>\n",
       "    </tr>\n",
       "    <tr>\n",
       "      <th>75%</th>\n",
       "      <td>55.000000</td>\n",
       "      <td>0.000000</td>\n",
       "      <td>0.000000</td>\n",
       "      <td>0.000000</td>\n",
       "      <td>0.000000</td>\n",
       "      <td>0.000000</td>\n",
       "      <td>1.000000</td>\n",
       "    </tr>\n",
       "    <tr>\n",
       "      <th>max</th>\n",
       "      <td>115.000000</td>\n",
       "      <td>1.000000</td>\n",
       "      <td>1.000000</td>\n",
       "      <td>1.000000</td>\n",
       "      <td>1.000000</td>\n",
       "      <td>4.000000</td>\n",
       "      <td>1.000000</td>\n",
       "    </tr>\n",
       "  </tbody>\n",
       "</table>\n",
       "</div>"
      ],
      "text/plain": [
       "                 AGE    SCHOLARSHIP   HIPERTENSION       DIABETES  \\\n",
       "count  110527.000000  110527.000000  110527.000000  110527.000000   \n",
       "mean       37.088874       0.098266       0.197246       0.071865   \n",
       "std        23.110205       0.297675       0.397921       0.258265   \n",
       "min        -1.000000       0.000000       0.000000       0.000000   \n",
       "25%        18.000000       0.000000       0.000000       0.000000   \n",
       "50%        37.000000       0.000000       0.000000       0.000000   \n",
       "75%        55.000000       0.000000       0.000000       0.000000   \n",
       "max       115.000000       1.000000       1.000000       1.000000   \n",
       "\n",
       "          ALCOHOLISM        HANDCAP   SMS_RECEIVED  \n",
       "count  110527.000000  110527.000000  110527.000000  \n",
       "mean        0.030400       0.022248       0.321026  \n",
       "std         0.171686       0.161543       0.466873  \n",
       "min         0.000000       0.000000       0.000000  \n",
       "25%         0.000000       0.000000       0.000000  \n",
       "50%         0.000000       0.000000       0.000000  \n",
       "75%         0.000000       0.000000       1.000000  \n",
       "max         1.000000       4.000000       1.000000  "
      ]
     },
     "execution_count": 89,
     "metadata": {},
     "output_type": "execute_result"
    }
   ],
   "source": [
    "df.describe()"
   ]
  },
  {
   "cell_type": "code",
   "execution_count": 90,
   "id": "36377838",
   "metadata": {},
   "outputs": [],
   "source": [
    "df.rename(columns={'NO-SHOW': 'PRESENT'}, inplace=True)\n",
    "#Renaming the column noshow to Present because it is either yes or no."
   ]
  },
  {
   "cell_type": "code",
   "execution_count": 91,
   "id": "376d6e77",
   "metadata": {},
   "outputs": [],
   "source": [
    "df.PRESENT.replace(['No', 'Yes'], [1, 0], inplace=True)"
   ]
  },
  {
   "cell_type": "code",
   "execution_count": 92,
   "id": "099772d2",
   "metadata": {},
   "outputs": [
    {
     "name": "stdout",
     "output_type": "stream",
     "text": [
      "<class 'pandas.core.frame.DataFrame'>\n",
      "RangeIndex: 110527 entries, 0 to 110526\n",
      "Data columns (total 12 columns):\n",
      " #   Column          Non-Null Count   Dtype              \n",
      "---  ------          --------------   -----              \n",
      " 0   GENDER          110527 non-null  category           \n",
      " 1   SCHEDULED_DAY   110527 non-null  datetime64[ns, UTC]\n",
      " 2   APPOINTMENTDAY  110527 non-null  datetime64[ns, UTC]\n",
      " 3   AGE             110527 non-null  int64              \n",
      " 4   NEIGHBOURHOOD   110527 non-null  object             \n",
      " 5   SCHOLARSHIP     110527 non-null  int64              \n",
      " 6   HIPERTENSION    110527 non-null  int64              \n",
      " 7   DIABETES        110527 non-null  int64              \n",
      " 8   ALCOHOLISM      110527 non-null  int64              \n",
      " 9   HANDCAP         110527 non-null  int64              \n",
      " 10  SMS_RECEIVED    110527 non-null  int64              \n",
      " 11  PRESENT         110527 non-null  int64              \n",
      "dtypes: category(1), datetime64[ns, UTC](2), int64(8), object(1)\n",
      "memory usage: 9.4+ MB\n"
     ]
    }
   ],
   "source": [
    "df.info()"
   ]
  },
  {
   "cell_type": "code",
   "execution_count": 93,
   "id": "4b4e1d16",
   "metadata": {},
   "outputs": [
    {
     "data": {
      "text/html": [
       "<div>\n",
       "<style scoped>\n",
       "    .dataframe tbody tr th:only-of-type {\n",
       "        vertical-align: middle;\n",
       "    }\n",
       "\n",
       "    .dataframe tbody tr th {\n",
       "        vertical-align: top;\n",
       "    }\n",
       "\n",
       "    .dataframe thead th {\n",
       "        text-align: right;\n",
       "    }\n",
       "</style>\n",
       "<table border=\"1\" class=\"dataframe\">\n",
       "  <thead>\n",
       "    <tr style=\"text-align: right;\">\n",
       "      <th></th>\n",
       "      <th>AGE</th>\n",
       "      <th>SCHOLARSHIP</th>\n",
       "      <th>HIPERTENSION</th>\n",
       "      <th>DIABETES</th>\n",
       "      <th>ALCOHOLISM</th>\n",
       "      <th>HANDCAP</th>\n",
       "      <th>SMS_RECEIVED</th>\n",
       "      <th>PRESENT</th>\n",
       "    </tr>\n",
       "  </thead>\n",
       "  <tbody>\n",
       "    <tr>\n",
       "      <th>count</th>\n",
       "      <td>110527.000000</td>\n",
       "      <td>110527.000000</td>\n",
       "      <td>110527.000000</td>\n",
       "      <td>110527.000000</td>\n",
       "      <td>110527.000000</td>\n",
       "      <td>110527.000000</td>\n",
       "      <td>110527.000000</td>\n",
       "      <td>110527.000000</td>\n",
       "    </tr>\n",
       "    <tr>\n",
       "      <th>mean</th>\n",
       "      <td>37.088874</td>\n",
       "      <td>0.098266</td>\n",
       "      <td>0.197246</td>\n",
       "      <td>0.071865</td>\n",
       "      <td>0.030400</td>\n",
       "      <td>0.022248</td>\n",
       "      <td>0.321026</td>\n",
       "      <td>0.798067</td>\n",
       "    </tr>\n",
       "    <tr>\n",
       "      <th>std</th>\n",
       "      <td>23.110205</td>\n",
       "      <td>0.297675</td>\n",
       "      <td>0.397921</td>\n",
       "      <td>0.258265</td>\n",
       "      <td>0.171686</td>\n",
       "      <td>0.161543</td>\n",
       "      <td>0.466873</td>\n",
       "      <td>0.401444</td>\n",
       "    </tr>\n",
       "    <tr>\n",
       "      <th>min</th>\n",
       "      <td>-1.000000</td>\n",
       "      <td>0.000000</td>\n",
       "      <td>0.000000</td>\n",
       "      <td>0.000000</td>\n",
       "      <td>0.000000</td>\n",
       "      <td>0.000000</td>\n",
       "      <td>0.000000</td>\n",
       "      <td>0.000000</td>\n",
       "    </tr>\n",
       "    <tr>\n",
       "      <th>25%</th>\n",
       "      <td>18.000000</td>\n",
       "      <td>0.000000</td>\n",
       "      <td>0.000000</td>\n",
       "      <td>0.000000</td>\n",
       "      <td>0.000000</td>\n",
       "      <td>0.000000</td>\n",
       "      <td>0.000000</td>\n",
       "      <td>1.000000</td>\n",
       "    </tr>\n",
       "    <tr>\n",
       "      <th>50%</th>\n",
       "      <td>37.000000</td>\n",
       "      <td>0.000000</td>\n",
       "      <td>0.000000</td>\n",
       "      <td>0.000000</td>\n",
       "      <td>0.000000</td>\n",
       "      <td>0.000000</td>\n",
       "      <td>0.000000</td>\n",
       "      <td>1.000000</td>\n",
       "    </tr>\n",
       "    <tr>\n",
       "      <th>75%</th>\n",
       "      <td>55.000000</td>\n",
       "      <td>0.000000</td>\n",
       "      <td>0.000000</td>\n",
       "      <td>0.000000</td>\n",
       "      <td>0.000000</td>\n",
       "      <td>0.000000</td>\n",
       "      <td>1.000000</td>\n",
       "      <td>1.000000</td>\n",
       "    </tr>\n",
       "    <tr>\n",
       "      <th>max</th>\n",
       "      <td>115.000000</td>\n",
       "      <td>1.000000</td>\n",
       "      <td>1.000000</td>\n",
       "      <td>1.000000</td>\n",
       "      <td>1.000000</td>\n",
       "      <td>4.000000</td>\n",
       "      <td>1.000000</td>\n",
       "      <td>1.000000</td>\n",
       "    </tr>\n",
       "  </tbody>\n",
       "</table>\n",
       "</div>"
      ],
      "text/plain": [
       "                 AGE    SCHOLARSHIP   HIPERTENSION       DIABETES  \\\n",
       "count  110527.000000  110527.000000  110527.000000  110527.000000   \n",
       "mean       37.088874       0.098266       0.197246       0.071865   \n",
       "std        23.110205       0.297675       0.397921       0.258265   \n",
       "min        -1.000000       0.000000       0.000000       0.000000   \n",
       "25%        18.000000       0.000000       0.000000       0.000000   \n",
       "50%        37.000000       0.000000       0.000000       0.000000   \n",
       "75%        55.000000       0.000000       0.000000       0.000000   \n",
       "max       115.000000       1.000000       1.000000       1.000000   \n",
       "\n",
       "          ALCOHOLISM        HANDCAP   SMS_RECEIVED        PRESENT  \n",
       "count  110527.000000  110527.000000  110527.000000  110527.000000  \n",
       "mean        0.030400       0.022248       0.321026       0.798067  \n",
       "std         0.171686       0.161543       0.466873       0.401444  \n",
       "min         0.000000       0.000000       0.000000       0.000000  \n",
       "25%         0.000000       0.000000       0.000000       1.000000  \n",
       "50%         0.000000       0.000000       0.000000       1.000000  \n",
       "75%         0.000000       0.000000       1.000000       1.000000  \n",
       "max         1.000000       4.000000       1.000000       1.000000  "
      ]
     },
     "execution_count": 93,
     "metadata": {},
     "output_type": "execute_result"
    }
   ],
   "source": [
    "df.describe()\n",
    "#Checking the dataset description overview age has a negative value which needs to be investigated and removed"
   ]
  },
  {
   "cell_type": "code",
   "execution_count": 94,
   "id": "9de65062",
   "metadata": {},
   "outputs": [
    {
     "data": {
      "text/html": [
       "<div>\n",
       "<style scoped>\n",
       "    .dataframe tbody tr th:only-of-type {\n",
       "        vertical-align: middle;\n",
       "    }\n",
       "\n",
       "    .dataframe tbody tr th {\n",
       "        vertical-align: top;\n",
       "    }\n",
       "\n",
       "    .dataframe thead th {\n",
       "        text-align: right;\n",
       "    }\n",
       "</style>\n",
       "<table border=\"1\" class=\"dataframe\">\n",
       "  <thead>\n",
       "    <tr style=\"text-align: right;\">\n",
       "      <th></th>\n",
       "      <th>GENDER</th>\n",
       "      <th>SCHEDULED_DAY</th>\n",
       "      <th>APPOINTMENTDAY</th>\n",
       "      <th>AGE</th>\n",
       "      <th>NEIGHBOURHOOD</th>\n",
       "      <th>SCHOLARSHIP</th>\n",
       "      <th>HIPERTENSION</th>\n",
       "      <th>DIABETES</th>\n",
       "      <th>ALCOHOLISM</th>\n",
       "      <th>HANDCAP</th>\n",
       "      <th>SMS_RECEIVED</th>\n",
       "      <th>PRESENT</th>\n",
       "    </tr>\n",
       "  </thead>\n",
       "  <tbody>\n",
       "    <tr>\n",
       "      <th>99832</th>\n",
       "      <td>F</td>\n",
       "      <td>2016-06-06 08:58:13+00:00</td>\n",
       "      <td>2016-06-06 00:00:00+00:00</td>\n",
       "      <td>-1</td>\n",
       "      <td>ROMÃO</td>\n",
       "      <td>0</td>\n",
       "      <td>0</td>\n",
       "      <td>0</td>\n",
       "      <td>0</td>\n",
       "      <td>0</td>\n",
       "      <td>0</td>\n",
       "      <td>1</td>\n",
       "    </tr>\n",
       "  </tbody>\n",
       "</table>\n",
       "</div>"
      ],
      "text/plain": [
       "      GENDER             SCHEDULED_DAY            APPOINTMENTDAY  AGE  \\\n",
       "99832      F 2016-06-06 08:58:13+00:00 2016-06-06 00:00:00+00:00   -1   \n",
       "\n",
       "      NEIGHBOURHOOD  SCHOLARSHIP  HIPERTENSION  DIABETES  ALCOHOLISM  HANDCAP  \\\n",
       "99832         ROMÃO            0             0         0           0        0   \n",
       "\n",
       "       SMS_RECEIVED  PRESENT  \n",
       "99832             0        1  "
      ]
     },
     "execution_count": 94,
     "metadata": {},
     "output_type": "execute_result"
    }
   ],
   "source": [
    "df[df.AGE < 0]\n",
    "# checking the record that contains the negtive value"
   ]
  },
  {
   "cell_type": "code",
   "execution_count": 58,
   "id": "368e83f2",
   "metadata": {},
   "outputs": [
    {
     "name": "stdout",
     "output_type": "stream",
     "text": [
      "Outlier Threshold: 110\n"
     ]
    },
    {
     "data": {
      "text/html": [
       "<div>\n",
       "<style scoped>\n",
       "    .dataframe tbody tr th:only-of-type {\n",
       "        vertical-align: middle;\n",
       "    }\n",
       "\n",
       "    .dataframe tbody tr th {\n",
       "        vertical-align: top;\n",
       "    }\n",
       "\n",
       "    .dataframe thead th {\n",
       "        text-align: right;\n",
       "    }\n",
       "</style>\n",
       "<table border=\"1\" class=\"dataframe\">\n",
       "  <thead>\n",
       "    <tr style=\"text-align: right;\">\n",
       "      <th></th>\n",
       "      <th>PATIENT-ID</th>\n",
       "      <th>APPOINTMENT-ID</th>\n",
       "      <th>GENDER</th>\n",
       "      <th>SCHEDULED-DAY</th>\n",
       "      <th>APPOINTMENT-DAY</th>\n",
       "      <th>AGE</th>\n",
       "      <th>NEIGHBOURHOOD</th>\n",
       "      <th>SCHOLARSHIP</th>\n",
       "      <th>HIPERTENSION</th>\n",
       "      <th>DIABETES</th>\n",
       "      <th>ALCOHOLISM</th>\n",
       "      <th>HANDCAP</th>\n",
       "      <th>SMS_RECEIVED</th>\n",
       "      <th>PRESENT</th>\n",
       "    </tr>\n",
       "  </thead>\n",
       "  <tbody>\n",
       "    <tr>\n",
       "      <th>63912</th>\n",
       "      <td>3.196321e+13</td>\n",
       "      <td>5700278</td>\n",
       "      <td>F</td>\n",
       "      <td>2016-05-16 09:17:44+00:00</td>\n",
       "      <td>2016-05-19 00:00:00+00:00</td>\n",
       "      <td>115</td>\n",
       "      <td>ANDORINHAS</td>\n",
       "      <td>0</td>\n",
       "      <td>0</td>\n",
       "      <td>0</td>\n",
       "      <td>0</td>\n",
       "      <td>1</td>\n",
       "      <td>0</td>\n",
       "      <td>0</td>\n",
       "    </tr>\n",
       "    <tr>\n",
       "      <th>63915</th>\n",
       "      <td>3.196321e+13</td>\n",
       "      <td>5700279</td>\n",
       "      <td>F</td>\n",
       "      <td>2016-05-16 09:17:44+00:00</td>\n",
       "      <td>2016-05-19 00:00:00+00:00</td>\n",
       "      <td>115</td>\n",
       "      <td>ANDORINHAS</td>\n",
       "      <td>0</td>\n",
       "      <td>0</td>\n",
       "      <td>0</td>\n",
       "      <td>0</td>\n",
       "      <td>1</td>\n",
       "      <td>0</td>\n",
       "      <td>0</td>\n",
       "    </tr>\n",
       "    <tr>\n",
       "      <th>68127</th>\n",
       "      <td>3.196321e+13</td>\n",
       "      <td>5562812</td>\n",
       "      <td>F</td>\n",
       "      <td>2016-04-08 14:29:17+00:00</td>\n",
       "      <td>2016-05-16 00:00:00+00:00</td>\n",
       "      <td>115</td>\n",
       "      <td>ANDORINHAS</td>\n",
       "      <td>0</td>\n",
       "      <td>0</td>\n",
       "      <td>0</td>\n",
       "      <td>0</td>\n",
       "      <td>1</td>\n",
       "      <td>0</td>\n",
       "      <td>0</td>\n",
       "    </tr>\n",
       "    <tr>\n",
       "      <th>76284</th>\n",
       "      <td>3.196321e+13</td>\n",
       "      <td>5744037</td>\n",
       "      <td>F</td>\n",
       "      <td>2016-05-30 09:44:51+00:00</td>\n",
       "      <td>2016-05-30 00:00:00+00:00</td>\n",
       "      <td>115</td>\n",
       "      <td>ANDORINHAS</td>\n",
       "      <td>0</td>\n",
       "      <td>0</td>\n",
       "      <td>0</td>\n",
       "      <td>0</td>\n",
       "      <td>1</td>\n",
       "      <td>0</td>\n",
       "      <td>1</td>\n",
       "    </tr>\n",
       "    <tr>\n",
       "      <th>97666</th>\n",
       "      <td>7.482346e+14</td>\n",
       "      <td>5717451</td>\n",
       "      <td>F</td>\n",
       "      <td>2016-05-19 07:57:56+00:00</td>\n",
       "      <td>2016-06-03 00:00:00+00:00</td>\n",
       "      <td>115</td>\n",
       "      <td>SÃO JOSÉ</td>\n",
       "      <td>0</td>\n",
       "      <td>1</td>\n",
       "      <td>0</td>\n",
       "      <td>0</td>\n",
       "      <td>0</td>\n",
       "      <td>1</td>\n",
       "      <td>1</td>\n",
       "    </tr>\n",
       "  </tbody>\n",
       "</table>\n",
       "</div>"
      ],
      "text/plain": [
       "         PATIENT-ID  APPOINTMENT-ID GENDER             SCHEDULED-DAY  \\\n",
       "63912  3.196321e+13         5700278      F 2016-05-16 09:17:44+00:00   \n",
       "63915  3.196321e+13         5700279      F 2016-05-16 09:17:44+00:00   \n",
       "68127  3.196321e+13         5562812      F 2016-04-08 14:29:17+00:00   \n",
       "76284  3.196321e+13         5744037      F 2016-05-30 09:44:51+00:00   \n",
       "97666  7.482346e+14         5717451      F 2016-05-19 07:57:56+00:00   \n",
       "\n",
       "                APPOINTMENT-DAY  AGE NEIGHBOURHOOD  SCHOLARSHIP  HIPERTENSION  \\\n",
       "63912 2016-05-19 00:00:00+00:00  115    ANDORINHAS            0             0   \n",
       "63915 2016-05-19 00:00:00+00:00  115    ANDORINHAS            0             0   \n",
       "68127 2016-05-16 00:00:00+00:00  115    ANDORINHAS            0             0   \n",
       "76284 2016-05-30 00:00:00+00:00  115    ANDORINHAS            0             0   \n",
       "97666 2016-06-03 00:00:00+00:00  115      SÃO JOSÉ            0             1   \n",
       "\n",
       "       DIABETES  ALCOHOLISM  HANDCAP  SMS_RECEIVED  PRESENT  \n",
       "63912         0           0        1             0        0  \n",
       "63915         0           0        1             0        0  \n",
       "68127         0           0        1             0        0  \n",
       "76284         0           0        1             0        1  \n",
       "97666         0           0        0             1        1  "
      ]
     },
     "execution_count": 58,
     "metadata": {},
     "output_type": "execute_result"
    },
    {
     "data": {
      "image/png": "[encoded data removed]",
      "text/plain": [
       "<Figure size 432x288 with 1 Axes>"
      ]
     },
     "metadata": {
      "needs_background": "light"
     },
     "output_type": "display_data"
    }
   ],
   "source": [
    "# We can use a boxplot to check for outliers in terms of negative values and  exegerated values in a visualized manner\n",
    "df.AGE.plot(kind='box');\n",
    "iqr = df.AGE.quantile(0.75) - df.AGE.quantile(0.25)\n",
    "outlier = df.AGE.quantile(0.75) + 1.5*iqr\n",
    "print('Outlier Threshold:', int(round(outlier,0)))\n",
    "df[df.AGE > 110]"
   ]
  },
  {
   "cell_type": "code",
   "execution_count": 95,
   "id": "078714e2",
   "metadata": {},
   "outputs": [
    {
     "data": {
      "text/plain": [
       "(110521, 12)"
      ]
     },
     "execution_count": 95,
     "metadata": {},
     "output_type": "execute_result"
    }
   ],
   "source": [
    "df = df[(df.AGE >=0) & (df.AGE <=110)]\n",
    "df.shape"
   ]
  },
  {
   "cell_type": "code",
   "execution_count": 101,
   "id": "a509db3c",
   "metadata": {},
   "outputs": [
    {
     "data": {
      "text/plain": [
       "count                        110521\n",
       "mean      9 days 17:08:35.550203128\n",
       "std      15 days 05:51:35.542808416\n",
       "min               -7 days +10:10:40\n",
       "25%               -1 days +15:41:32\n",
       "50%                 3 days 11:22:48\n",
       "75%                14 days 07:41:28\n",
       "max               178 days 13:19:01\n",
       "Name: TIMEDIFFERENCE, dtype: object"
      ]
     },
     "execution_count": 101,
     "metadata": {},
     "output_type": "execute_result"
    }
   ],
   "source": [
    "df['TIMEDIFFERENCE'] = df.APPOINTMENTDAY - df.SCHEDULED_DAY\n",
    "df.TIMEDIFFERENCE.describe()\n",
    "# We can create a coulumn called Timedifference for calculating the diffrence in time between the appointment date and when it was scheduled."
   ]
  },
  {
   "cell_type": "code",
   "execution_count": 108,
   "id": "8103ab1f",
   "metadata": {},
   "outputs": [
    {
     "data": {
      "text/plain": [
       "SCHOLARSHIP     0.10\n",
       "HIPERTENSION    0.20\n",
       "DIABETES        0.07\n",
       "ALCOHOLISM      0.03\n",
       "HANDCAP         0.02\n",
       "SMS_RECEIVED    0.32\n",
       "PRESENT         0.80\n",
       "dtype: float64"
      ]
     },
     "execution_count": 108,
     "metadata": {},
     "output_type": "execute_result"
    }
   ],
   "source": [
    "# Having an overview of the data so as to answer some questions\n",
    "ref = ['SCHOLARSHIP', 'HIPERTENSION','DIABETES', 'ALCOHOLISM', 'HANDCAP',\n",
    "       'SMS_RECEIVED', 'PRESENT']\n",
    "df[ref].mean().round(2)\n",
    "#Patients who are suffering from alcoholism=3%, diabetes=7%, hypertension=20%"
   ]
  },
  {
   "cell_type": "code",
   "execution_count": 109,
   "id": "2fa2b79f",
   "metadata": {},
   "outputs": [
    {
     "data": {
      "text/plain": [
       "GENDER\n",
       "F    0.65\n",
       "M    0.35\n",
       "dtype: float64"
      ]
     },
     "execution_count": 109,
     "metadata": {},
     "output_type": "execute_result"
    }
   ],
   "source": [
    "\n",
    "(df.groupby('GENDER').size() / df.shape[0]).round(2)\n",
    "# there are almost 2 times more female patients than male"
   ]
  },
  {
   "cell_type": "code",
   "execution_count": 111,
   "id": "a5fbb68b",
   "metadata": {},
   "outputs": [
    {
     "data": {
      "image/png": "[encoded data removed]",
      "text/plain": [
       "<Figure size 432x288 with 1 Axes>"
      ]
     },
     "metadata": {
      "needs_background": "light"
     },
     "output_type": "display_data"
    }
   ],
   "source": [
    "import matplotlib.pyplot as plt\n",
    "df.AGE.plot(kind='hist',bins=10)\n",
    "plt.title('AGE Histogram');\n",
    "#"
   ]
  },
  {
   "cell_type": "code",
   "execution_count": 114,
   "id": "07b6435c",
   "metadata": {},
   "outputs": [
    {
     "data": {
      "image/png": "[encoded data removed]",
      "text/plain": [
       "<Figure size 432x288 with 1 Axes>"
      ]
     },
     "metadata": {
      "needs_background": "light"
     },
     "output_type": "display_data"
    }
   ],
   "source": [
    "pd.crosstab(df.AGE, df.GENDER).plot(style=['or','ob'], alpha=0.8);\n",
    "plt.title('Age Frequency by Gender')\n",
    "plt.ylabel('Frequency');"
   ]
  },
  {
   "cell_type": "code",
   "execution_count": 122,
   "id": "7435f7f2",
   "metadata": {},
   "outputs": [],
   "source": [
    "%matplotlib inline\n",
    "def proportion_attendance(feature):\n",
    "    pd.crosstab(df[feature], df.PRESENT, normalize='columns').plot(kind='bar', alpha=0.85)\n",
    "    plt.xlabel('Feature: {}'.format(feature.replace('_',' ').title()))\n",
    "    plt.ylabel('Proportion')\n",
    "    plt.title('Proportion of Attendance Rate by {}'.format(feature.replace('_',' ').title()))\n",
    "    plt.margins(y=0.1)\n",
    "    return plt"
   ]
  },
  {
   "cell_type": "code",
   "execution_count": 123,
   "id": "15bcb0a7",
   "metadata": {},
   "outputs": [
    {
     "data": {
      "image/png": "[encoded data removed]",
      "text/plain": [
       "<Figure size 432x288 with 1 Axes>"
      ]
     },
     "metadata": {
      "needs_background": "light"
     },
     "output_type": "display_data"
    }
   ],
   "source": [
    "proportion_attendance('GENDER');\n",
    "#Question 1.\tDoes gender  influence the rate of attendance\n",
    "#From the below visualization there is no evidence of correlation between gender and attendance"
   ]
  },
  {
   "cell_type": "code",
   "execution_count": 124,
   "id": "913f4260",
   "metadata": {},
   "outputs": [
    {
     "data": {
      "image/png": "[encoded data removed]",
      "text/plain": [
       "<Figure size 432x288 with 1 Axes>"
      ]
     },
     "metadata": {
      "needs_background": "light"
     },
     "output_type": "display_data"
    }
   ],
   "source": [
    "df['age_groups'] = pd.qcut(df.AGE, 10)\n",
    "proportion_attendance('age_groups');\n",
    "# Question 2 2.\tDoes age determine probability of attendance"
   ]
  },
  {
   "cell_type": "code",
   "execution_count": 125,
   "id": "1a79c4ad",
   "metadata": {},
   "outputs": [
    {
     "data": {
      "image/png": "[encoded data removed]",
      "text/plain": [
       "<Figure size 432x288 with 1 Axes>"
      ]
     },
     "metadata": {
      "needs_background": "light"
     },
     "output_type": "display_data"
    }
   ],
   "source": [
    "ref_list = ['HIPATENSION', 'DIABETES', 'ALCOHOLISM', 'HANDCAP']\n",
    "\n",
    "proportion_attendance('ALCOHOLISM');"
   ]
  },
  {
   "cell_type": "code",
   "execution_count": 127,
   "id": "03b4d5e3",
   "metadata": {},
   "outputs": [
    {
     "data": {
      "image/png": "[encoded data removed]",
      "text/plain": [
       "<Figure size 432x288 with 1 Axes>"
      ]
     },
     "metadata": {
      "needs_background": "light"
     },
     "output_type": "display_data"
    }
   ],
   "source": [
    "ref_list = ['HIPATENSION', 'DIABETES', 'ALCOHOLISM', 'HANDCAP']\n",
    "\n",
    "proportion_attendance('HANDCAP');"
   ]
  },
  {
   "cell_type": "code",
   "execution_count": 128,
   "id": "afc08c3b",
   "metadata": {},
   "outputs": [
    {
     "data": {
      "image/png": "[encoded data removed]",
      "text/plain": [
       "<Figure size 432x288 with 1 Axes>"
      ]
     },
     "metadata": {
      "needs_background": "light"
     },
     "output_type": "display_data"
    }
   ],
   "source": [
    "ref_list = ['HIPATENSION', 'DIABETES', 'ALCOHOLISM', 'HANDICAP']\n",
    "\n",
    "proportion_attendance('DIABETES');"
   ]
  },
  {
   "cell_type": "code",
   "execution_count": 130,
   "id": "1994b570",
   "metadata": {},
   "outputs": [
    {
     "data": {
      "image/png": "[encoded data removed]",
      "text/plain": [
       "<Figure size 432x288 with 1 Axes>"
      ]
     },
     "metadata": {
      "needs_background": "light"
     },
     "output_type": "display_data"
    }
   ],
   "source": [
    "ref_list = ['HIPERTENSION', 'DIABETES', 'ALCOHOLISM', 'HANDICAP']\n",
    "\n",
    "proportion_attendance('HIPERTENSION');"
   ]
  },
  {
   "cell_type": "code",
   "execution_count": 131,
   "id": "c3d219c5",
   "metadata": {},
   "outputs": [
    {
     "data": {
      "image/png": "[encoded data removed]",
      "text/plain": [
       "<Figure size 432x288 with 1 Axes>"
      ]
     },
     "metadata": {
      "needs_background": "light"
     },
     "output_type": "display_data"
    }
   ],
   "source": [
    "proportion_attendance('SMS_RECEIVED');"
   ]
  },
  {
   "cell_type": "code",
   "execution_count": 17,
   "id": "7b97a649",
   "metadata": {},
   "outputs": [
    {
     "name": "stdout",
     "output_type": "stream",
     "text": [
      "Note: you may need to restart the kernel to use updated packages.\n"
     ]
    },
    {
     "name": "stderr",
     "output_type": "stream",
     "text": [
      "ERROR: Invalid requirement: \"'nbconvert[webpdf]`\"\n"
     ]
    }
   ],
   "source": [
    "pip install  \"'nbconvert[webpdf]` \"\n"
   ]
  },
  {
   "cell_type": "code",
   "execution_count": null,
   "id": "60082f0f",
   "metadata": {},
   "outputs": [],
   "source": [
    "The questions posed during the data investigation include;\n",
    "1.\tDoes gender influence the rate of attendance?\n",
    "2.\tDoes age determine probability of attendance?\n",
    "3.\tDo those people who receive SMS attend regularly?\n",
    "4.\tDoes any medical condition accelerate probability of attendance?\n",
    "\n",
    "\n",
    "From the data analysis the following were the findings as visualized below\n",
    "Does gender influence the rate of attendance: There was no clear cut whether gender affects the probability of attendance as shown above\n",
    "\n",
    "Does age determine probability of attendance \n",
    "From the analyzed data it is clear that people who are aged more than 45 years old are likely to attend appointments whereas those less than 45 years are less likely to attend\n",
    "\n",
    "Do those people who receive SMS attend regularly\n",
    " Receiving an SMS does seem to guarantee attendance by the patients as shown above\n",
    "    \n",
    "    Does any medical condition accelerate probability of attendance?\n",
    "The attendance of various patients with conditions is visualized above. \n",
    "From this analysis patients with diabetes and hypertension are more likely to show up.\n",
    "References used include:\n",
    "  1       https://jupyter.org/\n",
    "  2       https://stackoverflow.com/\n",
    "  3 https://www.youtube.com/playlist?list=PL1m-6MPBNAZfF-El7BzqaOrCrTBRgH1Nk\n",
    "  4 https://www.pluralsight.com/courses/jupyter-notebook-python\n",
    "\n",
    "                  Books\n",
    "1.\tJupyter (formerly IPython notebook) Finn ˚Arup Nielsen DTU Compute Technical University of Denmark\n",
    "2.\t Learning jupyter by Dan Toomey\n",
    "\n",
    "\n",
    "\n",
    "        \n"
   ]
  }
 ],
 "metadata": {
  "kernelspec": {
   "display_name": "Python 3 (ipykernel)",
   "language": "python",
   "name": "python3"
  },
  "language_info": {
   "codemirror_mode": {
    "name": "ipython",
    "version": 3
   },
   "file_extension": ".py",
   "mimetype": "text/x-python",
   "name": "python",
   "nbconvert_exporter": "python",
   "pygments_lexer": "ipython3",
   "version": "3.9.12"
  }
 },
 "nbformat": 4,
 "nbformat_minor": 5
}
